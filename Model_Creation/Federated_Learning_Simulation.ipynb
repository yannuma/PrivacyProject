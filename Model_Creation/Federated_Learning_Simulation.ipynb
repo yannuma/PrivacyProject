{
  "nbformat": 4,
  "nbformat_minor": 0,
  "metadata": {
    "colab": {
      "provenance": [],
      "gpuType": "T4",
      "toc_visible": true,
      "authorship_tag": "ABX9TyN4W/4hL9QWOJiIIArC1T/p",
      "include_colab_link": true
    },
    "kernelspec": {
      "name": "python3",
      "display_name": "Python 3"
    },
    "language_info": {
      "name": "python"
    }
  },
  "cells": [
    {
      "cell_type": "markdown",
      "metadata": {
        "id": "view-in-github",
        "colab_type": "text"
      },
      "source": [
        "<a href=\"https://colab.research.google.com/github/yannuma/PrivacyProject/blob/main/Model_Creation/Federated_Learning_Simulation.ipynb\" target=\"_parent\"><img src=\"https://colab.research.google.com/assets/colab-badge.svg\" alt=\"Open In Colab\"/></a>"
      ]
    },
    {
      "cell_type": "markdown",
      "source": [
        "# Federated Learning with and without Privacy Mechanism\n",
        "---\n",
        "\n",
        "In this notebook we create our federated learning models, assuming that the data is distributed to multiple clients (in our case different hospitals).  \n",
        "The aim is to create and analyse the difference between FL with and without privacy.\n",
        "\n",
        "We initially wanted to use the PySyft library for this. However, since older tutorials no longer work, there were problems with the various clients.  PySyft also does not provide any methods for model aggregation. We simply simulated FL without libraries and therefore without sending the trained models.\n"
      ],
      "metadata": {
        "id": "MqzDe30DMmo_"
      }
    },
    {
      "cell_type": "code",
      "execution_count": 2,
      "metadata": {
        "colab": {
          "base_uri": "https://localhost:8080/"
        },
        "id": "irp2E1E94oPk",
        "outputId": "2a3e9528-e289-47ea-8bd4-f9f3f03c7b1d"
      },
      "outputs": [
        {
          "output_type": "stream",
          "name": "stdout",
          "text": [
            "Requirement already satisfied: opacus in /usr/local/lib/python3.10/dist-packages (1.4.1)\n",
            "Requirement already satisfied: numpy>=1.15 in /usr/local/lib/python3.10/dist-packages (from opacus) (1.25.2)\n",
            "Requirement already satisfied: torch>=2.0 in /usr/local/lib/python3.10/dist-packages (from opacus) (2.3.0+cu121)\n",
            "Requirement already satisfied: scipy>=1.2 in /usr/local/lib/python3.10/dist-packages (from opacus) (1.11.4)\n",
            "Requirement already satisfied: opt-einsum>=3.3.0 in /usr/local/lib/python3.10/dist-packages (from opacus) (3.3.0)\n",
            "Requirement already satisfied: filelock in /usr/local/lib/python3.10/dist-packages (from torch>=2.0->opacus) (3.15.1)\n",
            "Requirement already satisfied: typing-extensions>=4.8.0 in /usr/local/lib/python3.10/dist-packages (from torch>=2.0->opacus) (4.12.2)\n",
            "Requirement already satisfied: sympy in /usr/local/lib/python3.10/dist-packages (from torch>=2.0->opacus) (1.12.1)\n",
            "Requirement already satisfied: networkx in /usr/local/lib/python3.10/dist-packages (from torch>=2.0->opacus) (3.3)\n",
            "Requirement already satisfied: jinja2 in /usr/local/lib/python3.10/dist-packages (from torch>=2.0->opacus) (3.1.4)\n",
            "Requirement already satisfied: fsspec in /usr/local/lib/python3.10/dist-packages (from torch>=2.0->opacus) (2023.6.0)\n",
            "Requirement already satisfied: nvidia-cuda-nvrtc-cu12==12.1.105 in /usr/local/lib/python3.10/dist-packages (from torch>=2.0->opacus) (12.1.105)\n",
            "Requirement already satisfied: nvidia-cuda-runtime-cu12==12.1.105 in /usr/local/lib/python3.10/dist-packages (from torch>=2.0->opacus) (12.1.105)\n",
            "Requirement already satisfied: nvidia-cuda-cupti-cu12==12.1.105 in /usr/local/lib/python3.10/dist-packages (from torch>=2.0->opacus) (12.1.105)\n",
            "Requirement already satisfied: nvidia-cudnn-cu12==8.9.2.26 in /usr/local/lib/python3.10/dist-packages (from torch>=2.0->opacus) (8.9.2.26)\n",
            "Requirement already satisfied: nvidia-cublas-cu12==12.1.3.1 in /usr/local/lib/python3.10/dist-packages (from torch>=2.0->opacus) (12.1.3.1)\n",
            "Requirement already satisfied: nvidia-cufft-cu12==11.0.2.54 in /usr/local/lib/python3.10/dist-packages (from torch>=2.0->opacus) (11.0.2.54)\n",
            "Requirement already satisfied: nvidia-curand-cu12==10.3.2.106 in /usr/local/lib/python3.10/dist-packages (from torch>=2.0->opacus) (10.3.2.106)\n",
            "Requirement already satisfied: nvidia-cusolver-cu12==11.4.5.107 in /usr/local/lib/python3.10/dist-packages (from torch>=2.0->opacus) (11.4.5.107)\n",
            "Requirement already satisfied: nvidia-cusparse-cu12==12.1.0.106 in /usr/local/lib/python3.10/dist-packages (from torch>=2.0->opacus) (12.1.0.106)\n",
            "Requirement already satisfied: nvidia-nccl-cu12==2.20.5 in /usr/local/lib/python3.10/dist-packages (from torch>=2.0->opacus) (2.20.5)\n",
            "Requirement already satisfied: nvidia-nvtx-cu12==12.1.105 in /usr/local/lib/python3.10/dist-packages (from torch>=2.0->opacus) (12.1.105)\n",
            "Requirement already satisfied: triton==2.3.0 in /usr/local/lib/python3.10/dist-packages (from torch>=2.0->opacus) (2.3.0)\n",
            "Requirement already satisfied: nvidia-nvjitlink-cu12 in /usr/local/lib/python3.10/dist-packages (from nvidia-cusolver-cu12==11.4.5.107->torch>=2.0->opacus) (12.5.40)\n",
            "Requirement already satisfied: MarkupSafe>=2.0 in /usr/local/lib/python3.10/dist-packages (from jinja2->torch>=2.0->opacus) (2.1.5)\n",
            "Requirement already satisfied: mpmath<1.4.0,>=1.1.0 in /usr/local/lib/python3.10/dist-packages (from sympy->torch>=2.0->opacus) (1.3.0)\n"
          ]
        }
      ],
      "source": [
        "# install and import necessary libraries\n",
        "!pip install opacus\n",
        "from opacus import PrivacyEngine\n",
        "from opacus.validators import ModuleValidator\n",
        "import tarfile\n",
        "import torch\n",
        "import requests\n",
        "import torch.nn as nn\n",
        "import torch.optim as optim\n",
        "from torch.utils.data import TensorDataset, DataLoader, random_split\n",
        "import torch.nn.functional as F\n",
        "import torchvision\n",
        "import torch.utils.data as torch_data\n",
        "import torchvision.transforms as transforms\n",
        "import numpy as np\n",
        "import itertools\n",
        "import seaborn as sns\n",
        "import matplotlib.pyplot as plt\n",
        "import pandas as pd\n",
        "import time\n",
        "from google.colab import files\n",
        "import warnings\n",
        "warnings.filterwarnings(\"ignore\", category=RuntimeWarning)"
      ]
    },
    {
      "cell_type": "code",
      "source": [
        "#Download the dataset and save features and labels in two different lists\n",
        "response = requests.get(f'https://www.comp.nus.edu.sg/~reza/files/dataset_texas.tgz')\n",
        "if response.status_code == 200:\n",
        "    with open(f'dataset_texas.tgz', 'wb') as file:\n",
        "        file.write(response.content)\n",
        "    print(\"Download completed successfully.\")\n",
        "else:\n",
        "    print(f\"Failed to download file: {response.status_code}\")\n",
        "\n",
        "with tarfile.open(f'dataset_texas.tgz') as f:\n",
        "    f.extractall(f'data/')\n",
        "\n",
        "with open('data/texas/100/feats', 'r') as f:\n",
        "    features = f.readlines()\n",
        "with open('data/texas/100/labels', 'r') as f:\n",
        "    labels = f.readlines()\n",
        "\n",
        "print(len(features))\n",
        "print(len(labels))\n",
        "\n",
        "features_list = [list(map(int, ''.join(feature.split()).split(','))) for feature in features]\n",
        "labels_list = [int(label.strip()) for label in labels]"
      ],
      "metadata": {
        "colab": {
          "base_uri": "https://localhost:8080/"
        },
        "id": "9EhAcqrg5Gmw",
        "outputId": "fde48f5a-4a8d-4b69-9740-792efcd27b19"
      },
      "execution_count": null,
      "outputs": [
        {
          "output_type": "stream",
          "name": "stdout",
          "text": [
            "Download completed successfully.\n",
            "67330\n",
            "67330\n"
          ]
        }
      ]
    },
    {
      "cell_type": "code",
      "source": [
        "'''\n",
        "Classical Network Architecture:\n",
        "3 Linear Layers\n",
        "This neural network consists of three linear layers.\n",
        "The first and second layers use the Tanh activation function, while the third layer outputs the final predictions.\n",
        "Input size is 6169, and it outputs 101 classes with one hidden layers of size 128.\n",
        "Tanh activation function (somehow) works better than classic activation function like Relu for DPSG.\n",
        "'''\n",
        "class NetSeq(nn.Module):\n",
        "    def __init__(self):\n",
        "        super(NetSeq, self).__init__()\n",
        "        self.fc1 = nn.Linear(6169, 128)\n",
        "        self.fc2 = nn.Linear(128, 128)\n",
        "        self.fc3 = nn.Linear(128, 101)\n",
        "\n",
        "    def forward(self, x):\n",
        "        x = torch.tanh(self.fc1(x))\n",
        "        x = torch.tanh(self.fc2(x))\n",
        "        x = self.fc3(x)\n",
        "        return x\n",
        "\n",
        "'''\n",
        "Function to calculate the acuracy of a network for a given dataset.\n",
        "Device decides if the calculations happens on CPU or GPU.\n",
        "'''\n",
        "def calc_accuracy(loader, network, device):\n",
        "    correct = 0\n",
        "    total = 0\n",
        "    for data in loader:\n",
        "      inputs, labels = data\n",
        "      inputs, labels = inputs.to(device), labels.to(device)\n",
        "      outputs = network(inputs)\n",
        "      _, predicted = torch.max(outputs.data, 1)\n",
        "      total += labels.size(0)\n",
        "      correct += (predicted == labels).sum().item()\n",
        "    return (correct / total, total)"
      ],
      "metadata": {
        "id": "gngISfg18xXc"
      },
      "execution_count": null,
      "outputs": []
    },
    {
      "cell_type": "code",
      "source": [
        "\"\"\"\n",
        "Each client has to train their own model.\n",
        "Classical train algorithm, same implementation as if there are no clients.\n",
        "\"\"\"\n",
        "def train_client(trainloader, testloader, lr = 0.01, epochs = 2, network_output = True):\n",
        "    test_accs = []\n",
        "    max_accuracy = 0\n",
        "    best_model_path = 'best_model.pth'\n",
        "\n",
        "    device = torch.device(\"cuda\" if torch.cuda.is_available() else \"cpu\")\n",
        "    network = NetSeq().to(device)\n",
        "    optimizer = torch.optim.Adam(network.parameters(), lr = lr)\n",
        "    criterion = nn.CrossEntropyLoss()\n",
        "\n",
        "    #print('Start training on', device)\n",
        "\n",
        "    for epoch in range(epochs):\n",
        "\n",
        "      #print('Epoch: {}'.format(epoch + 1))\n",
        "      for i, data in enumerate(trainloader, 0):\n",
        "        inputs, labels = data\n",
        "        inputs, labels = inputs.to(device), labels.to(device)\n",
        "        optimizer.zero_grad()\n",
        "        outputs = network(inputs)\n",
        "        loss = criterion(outputs, labels)\n",
        "        loss.backward()\n",
        "        optimizer.step()\n",
        "\n",
        "      # Validate all classes\n",
        "      with torch.no_grad():\n",
        "        acc_tuple = calc_accuracy(testloader, network, device)\n",
        "\n",
        "      #print('Accuracy of the network on %d test inputs: %d %%' % (acc_tuple[1], 100 * acc_tuple[0]))\n",
        "      test_accs.append(acc_tuple[0])\n",
        "      if acc_tuple[0] > max_accuracy:\n",
        "        max_accuracy = acc_tuple[0]\n",
        "        if network_output:\n",
        "          torch.save(network.state_dict(), best_model_path)\n",
        "\n",
        "    if network_output:\n",
        "      network.load_state_dict(torch.load(best_model_path))\n",
        "      network.to('cpu')\n",
        "      #print('Final accuracy: ', max_accuracy)\n",
        "      return (network, max_accuracy)\n",
        "    else:\n",
        "      #print('Final accuracy: ', max_accuracy)\n",
        "      return max_accuracy\n",
        "\n",
        "\"\"\"\n",
        "Each client has to train their own model but with DPSGD using opacus.\n",
        "Classical train algorithm: same implementation as if there are no clients.\n",
        "\"\"\"\n",
        "def train_client_DP(trainloader, testloader, lr = 0.001, epochs = 80, network_output = True, C = 3, epsilon = 10):\n",
        "\t\ttest_accs = []\n",
        "\t\tmax_accuracy = 0\n",
        "\t\tbest_model_path = 'best_model.pth'\n",
        "\t\tDelta = 1e-5\n",
        "\n",
        "\t\tdevice = torch.device(\"cuda\" if torch.cuda.is_available() else \"cpu\")\n",
        "\n",
        "\t\tnetwork = NetSeq().to(device)\n",
        "\t\tnetwork = ModuleValidator.fix(network)\n",
        "\t\tnetwork = network.to(device)\n",
        "\t\toptimizer = torch.optim.Adam(network.parameters(), lr = lr)\n",
        "\t\tcriterion = nn.CrossEntropyLoss()\n",
        "\n",
        "    #define privacy engine\n",
        "\t\tprivacy_engine = PrivacyEngine()\n",
        "    #feed the network, optimizer, trainloader to the privacy engine\n",
        "\t\tnetwork, optimizer, trainloader = privacy_engine.make_private_with_epsilon(\n",
        "    \tmodule=network,\n",
        "    \toptimizer=optimizer,\n",
        "    \tdata_loader=trainloader,\n",
        "    \tmax_grad_norm=C,\n",
        "\t\t\ttarget_epsilon = epsilon,\n",
        "\t\t\ttarget_delta = Delta,\n",
        "\t\t\tepochs = epochs\n",
        "\t\t\t)\n",
        "\n",
        "\t\tnetwork.to(device)\n",
        "\n",
        "\t\t#print('Start training on', device)\n",
        "\t\tfor epoch in range(epochs):\n",
        "\n",
        "\t\t\t#print('Epoch: {}'.format(epoch + 1))\n",
        "\t\t\tfor i, data in enumerate(trainloader, 0):\n",
        "\t\t\t\tinputs, labels = data\n",
        "\t\t\t\tinputs, labels = inputs.to(device), labels.to(device)\n",
        "\t\t\t\toptimizer.zero_grad()\n",
        "\t\t\t\toutputs = network(inputs)\n",
        "\t\t\t\tloss = criterion(outputs, labels)\n",
        "\t\t\t\tloss.backward()\n",
        "\t\t\t\toptimizer.step()\n",
        "\n",
        "\t\t\t# Validate all classes\n",
        "\t\t\twith torch.no_grad():\n",
        "\t\t\t\tacc_tuple = calc_accuracy(testloader, network, device)\n",
        "\n",
        "\t\t\t#print('Accuracy of the network on %d test inputs: %d %%' % (acc_tuple[1], 100 * acc_tuple[0]))\n",
        "\t\t\ttest_accs.append(acc_tuple[0])\n",
        "\t\t\tif acc_tuple[0] > max_accuracy:\n",
        "\t\t\t\tmax_accuracy = acc_tuple[0]\n",
        "\t\t\t\tif network_output:\n",
        "\t\t\t\t\ttorch.save(network.state_dict(), best_model_path)\n",
        "\n",
        "\t\tepsilon = privacy_engine.get_epsilon(delta=Delta)\n",
        "\t\t#print(\"Our Privacy Budget is:\", epsilon)\n",
        "\n",
        "\t\tif network_output:\n",
        "\t\t\tnetwork.load_state_dict(torch.load(best_model_path))\n",
        "\t\t\tnetwork.to('cpu')\n",
        "\t\t\t#print('Final accuracy: ', max_accuracy)\n",
        "\t\t\treturn (network, max_accuracy)\n",
        "\t\telse:\n",
        "\t\t\t#print('Final accuracy: ', max_accuracy)\n",
        "\t\t\treturn max_accuracy\n",
        "\n",
        "\"\"\"\n",
        "aggregate the client models to one model\n",
        "the methode used here is just averaging the parameters (there are more advanced techniques)\n",
        "\"\"\"\n",
        "def aggregate_models(models):\n",
        "  for model in models:\n",
        "    model.eval()\n",
        "\n",
        "  num_models = len(models)\n",
        "  aggregated_params = {}\n",
        "\n",
        "  for model in models:\n",
        "      for name, param in model.named_parameters():\n",
        "          if name in aggregated_params:\n",
        "              aggregated_params[name] += param.data\n",
        "          else:\n",
        "              aggregated_params[name] = param.data.clone()\n",
        "\n",
        "  # Calculate the average of aggregated parameters\n",
        "  for name in aggregated_params:\n",
        "      aggregated_params[name] /= num_models\n",
        "\n",
        "  # Create a new model with the averaged parameters\n",
        "  aggregated_model = type(models[0])()\n",
        "  aggregated_model.load_state_dict(aggregated_params)\n",
        "\n",
        "  return aggregated_model"
      ],
      "metadata": {
        "id": "wn_WQwKW6_3h"
      },
      "execution_count": null,
      "outputs": []
    },
    {
      "cell_type": "code",
      "source": [
        "#Choose the number of clients\n",
        "clients = 2\n",
        "\n",
        "#Distribute the Dataset to the clients (In Practice every clients has already their own data)\n",
        "dataset = TensorDataset(torch.tensor(features_list, dtype=torch.float), torch.tensor(labels_list, dtype=torch.long))\n",
        "client_size = len(dataset) // clients\n",
        "sizes = [client_size] * (clients - 1) + [len(dataset) - client_size * (clients - 1)]\n",
        "client_datasets = random_split(dataset, sizes)\n",
        "train_loaders = []\n",
        "test_loaders = []\n",
        "batch = 64\n",
        "\n",
        "for client_dataset in client_datasets:\n",
        "    train_size = int(0.8 * len(client_dataset))\n",
        "    train_subset, test_subset = torch.utils.data.random_split(client_dataset, [train_size, len(client_dataset) - train_size])\n",
        "    train_loader = DataLoader(train_subset, batch_size=batch, shuffle=True)\n",
        "    train_loaders.append(train_loader)\n",
        "    test_loader = DataLoader(test_subset, batch_size=batch, shuffle=False)\n",
        "    test_loaders.append(test_loader)"
      ],
      "metadata": {
        "id": "EgZ1BUsh772z"
      },
      "execution_count": null,
      "outputs": []
    },
    {
      "cell_type": "markdown",
      "source": [
        "# Federated Learning without Privacy"
      ],
      "metadata": {
        "id": "Wz5s37LkdcL4"
      }
    },
    {
      "cell_type": "code",
      "source": [
        "epochs = [5, 10, 20, 40, 60]\n",
        "\n",
        "results = []\n",
        "agg_model = []\n",
        "for epoch in epochs:\n",
        "  client_models = []\n",
        "\n",
        "  #Train the clients\n",
        "  for client in range(clients):\n",
        "    start = time.time()\n",
        "    res = train_client(train_loaders[client], test_loaders[client], 0.001, epoch)\n",
        "    end = time.time()\n",
        "    client_models.append(res[0])\n",
        "    results.append({'Mode': \"Training Client\", 'client': client, 'epoch': epoch, 'accuracy': res[1], \"time\": end - start})\n",
        "\n",
        "  #aggegrate the model\n",
        "  start = time.time()\n",
        "  aggegrated_model = aggregate_models(client_models)\n",
        "  end = time.time()\n",
        "  agg_model.append(aggegrated_model)\n",
        "  #calculate the accuracy for each client on the testset\n",
        "  for client in range(clients):\n",
        "      with torch.no_grad():\n",
        "        acc = calc_accuracy(test_loaders[client], aggegrated_model, device = 'cpu')\n",
        "        results.append({'Mode': \"Aggregated Model\", 'client': client, 'epoch': epoch, 'accuracy': acc[0], \"time\": end - start})\n",
        "\n",
        "#group the data, to find the best model\n",
        "df = pd.DataFrame(results)\n",
        "agg_model_df = df[df['Mode'] == \"Aggregated Model\"]\n",
        "average_accuracy_per_epoch = agg_model_df.groupby('epoch')['accuracy'].mean()\n",
        "max_epoch = average_accuracy_per_epoch.idxmax()\n",
        "max_average_accuracy = average_accuracy_per_epoch.max()\n",
        "\n",
        "print(\"Average Accuracy per Epoch for Aggregated Model:\")\n",
        "print(average_accuracy_per_epoch)\n",
        "print(\"\\nMaximum Average Accuracy for Aggregated Model:\")\n",
        "print(f\"Epoch: {max_epoch}, Accuracy: {max_average_accuracy}\")\n",
        "df.to_csv('df_results_FL.csv', index=False)\n",
        "files.download('df_results_FL.csv')"
      ],
      "metadata": {
        "colab": {
          "base_uri": "https://localhost:8080/",
          "height": 208
        },
        "id": "z3CfyBfY_WGx",
        "outputId": "6033c078-8773-47e1-aa9e-77157b4ce57e"
      },
      "execution_count": null,
      "outputs": [
        {
          "output_type": "stream",
          "name": "stdout",
          "text": [
            "Average Accuracy per Epoch for Aggregated Model:\n",
            "epoch\n",
            "5     0.589559\n",
            "10    0.594831\n",
            "20    0.580425\n",
            "40    0.587628\n",
            "60    0.589559\n",
            "Name: accuracy, dtype: float64\n",
            "\n",
            "Maximum Average Accuracy for Aggregated Model:\n",
            "Epoch: 10, Accuracy: 0.5948314272983811\n"
          ]
        },
        {
          "output_type": "display_data",
          "data": {
            "text/plain": [
              "<IPython.core.display.Javascript object>"
            ],
            "application/javascript": [
              "\n",
              "    async function download(id, filename, size) {\n",
              "      if (!google.colab.kernel.accessAllowed) {\n",
              "        return;\n",
              "      }\n",
              "      const div = document.createElement('div');\n",
              "      const label = document.createElement('label');\n",
              "      label.textContent = `Downloading \"${filename}\": `;\n",
              "      div.appendChild(label);\n",
              "      const progress = document.createElement('progress');\n",
              "      progress.max = size;\n",
              "      div.appendChild(progress);\n",
              "      document.body.appendChild(div);\n",
              "\n",
              "      const buffers = [];\n",
              "      let downloaded = 0;\n",
              "\n",
              "      const channel = await google.colab.kernel.comms.open(id);\n",
              "      // Send a message to notify the kernel that we're ready.\n",
              "      channel.send({})\n",
              "\n",
              "      for await (const message of channel.messages) {\n",
              "        // Send a message to notify the kernel that we're ready.\n",
              "        channel.send({})\n",
              "        if (message.buffers) {\n",
              "          for (const buffer of message.buffers) {\n",
              "            buffers.push(buffer);\n",
              "            downloaded += buffer.byteLength;\n",
              "            progress.value = downloaded;\n",
              "          }\n",
              "        }\n",
              "      }\n",
              "      const blob = new Blob(buffers, {type: 'application/binary'});\n",
              "      const a = document.createElement('a');\n",
              "      a.href = window.URL.createObjectURL(blob);\n",
              "      a.download = filename;\n",
              "      div.appendChild(a);\n",
              "      a.click();\n",
              "      div.remove();\n",
              "    }\n",
              "  "
            ]
          },
          "metadata": {}
        },
        {
          "output_type": "display_data",
          "data": {
            "text/plain": [
              "<IPython.core.display.Javascript object>"
            ],
            "application/javascript": [
              "download(\"download_39474c64-8c05-430a-8bd9-a9fcd96e5295\", \"df_results_FL.csv\", 1226)"
            ]
          },
          "metadata": {}
        }
      ]
    },
    {
      "cell_type": "code",
      "source": [
        "#download the model\n",
        "epoch_index = epochs.index(max_epoch)\n",
        "best_model = agg_model[epoch_index]\n",
        "torch.save(best_model.state_dict(), 'model_FL.pth')\n",
        "files.download('model_FL.pth')"
      ],
      "metadata": {
        "id": "CWgQOWadLRTa",
        "colab": {
          "base_uri": "https://localhost:8080/",
          "height": 17
        },
        "outputId": "5dc1e125-06bb-433a-d61b-fb556bb0d7a6"
      },
      "execution_count": null,
      "outputs": [
        {
          "output_type": "display_data",
          "data": {
            "text/plain": [
              "<IPython.core.display.Javascript object>"
            ],
            "application/javascript": [
              "\n",
              "    async function download(id, filename, size) {\n",
              "      if (!google.colab.kernel.accessAllowed) {\n",
              "        return;\n",
              "      }\n",
              "      const div = document.createElement('div');\n",
              "      const label = document.createElement('label');\n",
              "      label.textContent = `Downloading \"${filename}\": `;\n",
              "      div.appendChild(label);\n",
              "      const progress = document.createElement('progress');\n",
              "      progress.max = size;\n",
              "      div.appendChild(progress);\n",
              "      document.body.appendChild(div);\n",
              "\n",
              "      const buffers = [];\n",
              "      let downloaded = 0;\n",
              "\n",
              "      const channel = await google.colab.kernel.comms.open(id);\n",
              "      // Send a message to notify the kernel that we're ready.\n",
              "      channel.send({})\n",
              "\n",
              "      for await (const message of channel.messages) {\n",
              "        // Send a message to notify the kernel that we're ready.\n",
              "        channel.send({})\n",
              "        if (message.buffers) {\n",
              "          for (const buffer of message.buffers) {\n",
              "            buffers.push(buffer);\n",
              "            downloaded += buffer.byteLength;\n",
              "            progress.value = downloaded;\n",
              "          }\n",
              "        }\n",
              "      }\n",
              "      const blob = new Blob(buffers, {type: 'application/binary'});\n",
              "      const a = document.createElement('a');\n",
              "      a.href = window.URL.createObjectURL(blob);\n",
              "      a.download = filename;\n",
              "      div.appendChild(a);\n",
              "      a.click();\n",
              "      div.remove();\n",
              "    }\n",
              "  "
            ]
          },
          "metadata": {}
        },
        {
          "output_type": "display_data",
          "data": {
            "text/plain": [
              "<IPython.core.display.Javascript object>"
            ],
            "application/javascript": [
              "download(\"download_e8a72401-62ff-4e9e-aa8e-c6bd07a8e457\", \"model_FL.pth\", 3279762)"
            ]
          },
          "metadata": {}
        }
      ]
    },
    {
      "cell_type": "markdown",
      "source": [
        "# Federated Learning with Privacy"
      ],
      "metadata": {
        "id": "eBvb3A7fdRRA"
      }
    },
    {
      "cell_type": "code",
      "source": [
        "#Do exactly the same as above but with Differential Privacy Mechanism\n",
        "epsilons = [1, 10, 20]\n",
        "epochs = [5, 10, 20, 40, 60]\n",
        "results_DP = []\n",
        "\n",
        "#train the models for different epsilons and epochs\n",
        "for eps in epsilons:\n",
        "  for epoch in epochs:\n",
        "    client_models = []\n",
        "    for client in range(clients):\n",
        "      start = time.time()\n",
        "      res = (train_client_DP(train_loaders[client], test_loaders[client], epochs = epoch, epsilon = eps))\n",
        "      end = time.time()\n",
        "      client_models.append(res[0]._module)\n",
        "      results_DP.append({'Mode': \"Training Client\", 'client': client, 'epsilon': eps,'epoch': epoch, 'accuracy': res[1], 'time': end - start})\n",
        "\n",
        "    #aggregate the models\n",
        "    start = time.time()\n",
        "    aggegrated_model = aggregate_models(client_models)\n",
        "    end = time.time()\n",
        "\n",
        "    #calculate the accuracy for the aggregated model\n",
        "    for client in range(clients):\n",
        "        with torch.no_grad():\n",
        "          device = 'cpu'\n",
        "          acc = calc_accuracy(test_loaders[client], aggegrated_model, device)\n",
        "          results_DP.append({'Mode': \"Aggregated Model\", 'client': client, 'epsilon': eps,'epoch': epoch, 'accuracy': acc[0], 'time': end - start})\n",
        "\n",
        "#group the data, to find the best model\n",
        "df_DP = pd.DataFrame(results_DP)\n",
        "agg_model_df = df_DP[df_DP['Mode'] == \"Aggregated Model\"]\n",
        "average_accuracy_per_epoch_epsilon = agg_model_df.groupby(['epoch', 'epsilon'])['accuracy'].mean()\n",
        "print(average_accuracy_per_epoch_epsilon)\n",
        "\n",
        "max_accuracy_per_epsilon = average_accuracy_per_epoch_epsilon.groupby('epsilon').idxmax().apply(\n",
        "    lambda x: (x[0], average_accuracy_per_epoch_epsilon.loc[x])\n",
        ")\n",
        "max_accuracy_per_epsilon = max_accuracy_per_epsilon.rename(\"epoch, accuracy\").reset_index()\n",
        "print(\"Maximum Average Accuracy per Epsilon:\")\n",
        "print(max_accuracy_per_epsilon)\n",
        "\n",
        "df_DP.to_csv('df_results_FL_DP.csv', index=False)\n",
        "files.download('df_results_FL_DP.csv')"
      ],
      "metadata": {
        "colab": {
          "base_uri": "https://localhost:8080/",
          "height": 523
        },
        "id": "nguZ0LrN1cmH",
        "outputId": "42645a93-3224-43d9-c160-7b011eedeaa5"
      },
      "execution_count": null,
      "outputs": [
        {
          "output_type": "stream",
          "name": "stderr",
          "text": [
            "/usr/local/lib/python3.10/dist-packages/opacus/privacy_engine.py:95: UserWarning: Secure RNG turned off. This is perfectly fine for experimentation as it allows for much faster training performance, but remember to turn it on and retrain one last time before production with ``secure_mode`` turned on.\n",
            "  warnings.warn(\n",
            "/usr/local/lib/python3.10/dist-packages/opacus/accountants/analysis/rdp.py:332: UserWarning: Optimal order is the largest alpha. Please consider expanding the range of alphas to get a tighter privacy bound.\n",
            "  warnings.warn(\n",
            "/usr/local/lib/python3.10/dist-packages/torch/nn/modules/module.py:1373: UserWarning: Using a non-full backward hook when the forward contains multiple autograd Nodes is deprecated and will be removed in future versions. This hook will be missing some grad_input. Please use register_full_backward_hook to get the documented behavior.\n",
            "  warnings.warn(\"Using a non-full backward hook when the forward contains multiple autograd Nodes \"\n"
          ]
        },
        {
          "output_type": "stream",
          "name": "stdout",
          "text": [
            "epoch  epsilon\n",
            "5      1          0.168498\n",
            "       10         0.250928\n",
            "       20         0.265855\n",
            "10     1          0.239046\n",
            "       10         0.329051\n",
            "       20         0.330685\n",
            "20     1          0.279667\n",
            "       10         0.397371\n",
            "       20         0.430789\n",
            "40     1          0.314793\n",
            "       10         0.422917\n",
            "       20         0.462275\n",
            "60     1          0.306104\n",
            "       10         0.397297\n",
            "       20         0.424551\n",
            "Name: accuracy, dtype: float64\n",
            "Maximum Average Accuracy per Epsilon:\n",
            "   epsilon            epoch, accuracy\n",
            "0        1    (40, 0.314792811525323)\n",
            "1       10   (40, 0.4229169760879251)\n",
            "2       20  (40, 0.46227536016634485)\n"
          ]
        },
        {
          "output_type": "display_data",
          "data": {
            "text/plain": [
              "<IPython.core.display.Javascript object>"
            ],
            "application/javascript": [
              "\n",
              "    async function download(id, filename, size) {\n",
              "      if (!google.colab.kernel.accessAllowed) {\n",
              "        return;\n",
              "      }\n",
              "      const div = document.createElement('div');\n",
              "      const label = document.createElement('label');\n",
              "      label.textContent = `Downloading \"${filename}\": `;\n",
              "      div.appendChild(label);\n",
              "      const progress = document.createElement('progress');\n",
              "      progress.max = size;\n",
              "      div.appendChild(progress);\n",
              "      document.body.appendChild(div);\n",
              "\n",
              "      const buffers = [];\n",
              "      let downloaded = 0;\n",
              "\n",
              "      const channel = await google.colab.kernel.comms.open(id);\n",
              "      // Send a message to notify the kernel that we're ready.\n",
              "      channel.send({})\n",
              "\n",
              "      for await (const message of channel.messages) {\n",
              "        // Send a message to notify the kernel that we're ready.\n",
              "        channel.send({})\n",
              "        if (message.buffers) {\n",
              "          for (const buffer of message.buffers) {\n",
              "            buffers.push(buffer);\n",
              "            downloaded += buffer.byteLength;\n",
              "            progress.value = downloaded;\n",
              "          }\n",
              "        }\n",
              "      }\n",
              "      const blob = new Blob(buffers, {type: 'application/binary'});\n",
              "      const a = document.createElement('a');\n",
              "      a.href = window.URL.createObjectURL(blob);\n",
              "      a.download = filename;\n",
              "      div.appendChild(a);\n",
              "      a.click();\n",
              "      div.remove();\n",
              "    }\n",
              "  "
            ]
          },
          "metadata": {}
        },
        {
          "output_type": "display_data",
          "data": {
            "text/plain": [
              "<IPython.core.display.Javascript object>"
            ],
            "application/javascript": [
              "download(\"download_acdcd07f-62f3-42fe-8003-9dc5c953fdcf\", \"df_results_FL_DP.csv\", 3824)"
            ]
          },
          "metadata": {}
        }
      ]
    },
    {
      "cell_type": "code",
      "source": [
        "#Train again the best model to download them\n",
        "#(we could not save all models and extract the best ones because it took too much RAM)\n",
        "epsilons = [1, 10, 20]\n",
        "epoch = 40\n",
        "for eps in epsilons:\n",
        "  client_models = []\n",
        "  for client in range(clients):\n",
        "    res = (train_client_DP(train_loaders[client], test_loaders[client], epochs = epoch, epsilon = eps))\n",
        "    client_models.append(res[0]._module)\n",
        "\n",
        "  aggegrated_model = aggregate_models(client_models)\n",
        "  torch.save(aggegrated_model.state_dict(), f'model_FL_epsilon_{eps}.pth')\n",
        "  files.download(f'model_FL_epsilon_{eps}.pth')"
      ],
      "metadata": {
        "colab": {
          "base_uri": "https://localhost:8080/",
          "height": 17
        },
        "id": "clHmyxgbnuhV",
        "outputId": "3ec98a57-7ad4-4f34-9116-d43eea6eba65"
      },
      "execution_count": null,
      "outputs": [
        {
          "output_type": "display_data",
          "data": {
            "text/plain": [
              "<IPython.core.display.Javascript object>"
            ],
            "application/javascript": [
              "\n",
              "    async function download(id, filename, size) {\n",
              "      if (!google.colab.kernel.accessAllowed) {\n",
              "        return;\n",
              "      }\n",
              "      const div = document.createElement('div');\n",
              "      const label = document.createElement('label');\n",
              "      label.textContent = `Downloading \"${filename}\": `;\n",
              "      div.appendChild(label);\n",
              "      const progress = document.createElement('progress');\n",
              "      progress.max = size;\n",
              "      div.appendChild(progress);\n",
              "      document.body.appendChild(div);\n",
              "\n",
              "      const buffers = [];\n",
              "      let downloaded = 0;\n",
              "\n",
              "      const channel = await google.colab.kernel.comms.open(id);\n",
              "      // Send a message to notify the kernel that we're ready.\n",
              "      channel.send({})\n",
              "\n",
              "      for await (const message of channel.messages) {\n",
              "        // Send a message to notify the kernel that we're ready.\n",
              "        channel.send({})\n",
              "        if (message.buffers) {\n",
              "          for (const buffer of message.buffers) {\n",
              "            buffers.push(buffer);\n",
              "            downloaded += buffer.byteLength;\n",
              "            progress.value = downloaded;\n",
              "          }\n",
              "        }\n",
              "      }\n",
              "      const blob = new Blob(buffers, {type: 'application/binary'});\n",
              "      const a = document.createElement('a');\n",
              "      a.href = window.URL.createObjectURL(blob);\n",
              "      a.download = filename;\n",
              "      div.appendChild(a);\n",
              "      a.click();\n",
              "      div.remove();\n",
              "    }\n",
              "  "
            ]
          },
          "metadata": {}
        },
        {
          "output_type": "display_data",
          "data": {
            "text/plain": [
              "<IPython.core.display.Javascript object>"
            ],
            "application/javascript": [
              "download(\"download_37e25993-e1ac-498b-afec-b5f3197d3e81\", \"model_FL_epsilon_1.pth\", 3279926)"
            ]
          },
          "metadata": {}
        },
        {
          "output_type": "display_data",
          "data": {
            "text/plain": [
              "<IPython.core.display.Javascript object>"
            ],
            "application/javascript": [
              "\n",
              "    async function download(id, filename, size) {\n",
              "      if (!google.colab.kernel.accessAllowed) {\n",
              "        return;\n",
              "      }\n",
              "      const div = document.createElement('div');\n",
              "      const label = document.createElement('label');\n",
              "      label.textContent = `Downloading \"${filename}\": `;\n",
              "      div.appendChild(label);\n",
              "      const progress = document.createElement('progress');\n",
              "      progress.max = size;\n",
              "      div.appendChild(progress);\n",
              "      document.body.appendChild(div);\n",
              "\n",
              "      const buffers = [];\n",
              "      let downloaded = 0;\n",
              "\n",
              "      const channel = await google.colab.kernel.comms.open(id);\n",
              "      // Send a message to notify the kernel that we're ready.\n",
              "      channel.send({})\n",
              "\n",
              "      for await (const message of channel.messages) {\n",
              "        // Send a message to notify the kernel that we're ready.\n",
              "        channel.send({})\n",
              "        if (message.buffers) {\n",
              "          for (const buffer of message.buffers) {\n",
              "            buffers.push(buffer);\n",
              "            downloaded += buffer.byteLength;\n",
              "            progress.value = downloaded;\n",
              "          }\n",
              "        }\n",
              "      }\n",
              "      const blob = new Blob(buffers, {type: 'application/binary'});\n",
              "      const a = document.createElement('a');\n",
              "      a.href = window.URL.createObjectURL(blob);\n",
              "      a.download = filename;\n",
              "      div.appendChild(a);\n",
              "      a.click();\n",
              "      div.remove();\n",
              "    }\n",
              "  "
            ]
          },
          "metadata": {}
        },
        {
          "output_type": "display_data",
          "data": {
            "text/plain": [
              "<IPython.core.display.Javascript object>"
            ],
            "application/javascript": [
              "download(\"download_ce7de037-8558-445f-98a6-31f40c0268e7\", \"model_FL_epsilon_10.pth\", 3279936)"
            ]
          },
          "metadata": {}
        },
        {
          "output_type": "display_data",
          "data": {
            "text/plain": [
              "<IPython.core.display.Javascript object>"
            ],
            "application/javascript": [
              "\n",
              "    async function download(id, filename, size) {\n",
              "      if (!google.colab.kernel.accessAllowed) {\n",
              "        return;\n",
              "      }\n",
              "      const div = document.createElement('div');\n",
              "      const label = document.createElement('label');\n",
              "      label.textContent = `Downloading \"${filename}\": `;\n",
              "      div.appendChild(label);\n",
              "      const progress = document.createElement('progress');\n",
              "      progress.max = size;\n",
              "      div.appendChild(progress);\n",
              "      document.body.appendChild(div);\n",
              "\n",
              "      const buffers = [];\n",
              "      let downloaded = 0;\n",
              "\n",
              "      const channel = await google.colab.kernel.comms.open(id);\n",
              "      // Send a message to notify the kernel that we're ready.\n",
              "      channel.send({})\n",
              "\n",
              "      for await (const message of channel.messages) {\n",
              "        // Send a message to notify the kernel that we're ready.\n",
              "        channel.send({})\n",
              "        if (message.buffers) {\n",
              "          for (const buffer of message.buffers) {\n",
              "            buffers.push(buffer);\n",
              "            downloaded += buffer.byteLength;\n",
              "            progress.value = downloaded;\n",
              "          }\n",
              "        }\n",
              "      }\n",
              "      const blob = new Blob(buffers, {type: 'application/binary'});\n",
              "      const a = document.createElement('a');\n",
              "      a.href = window.URL.createObjectURL(blob);\n",
              "      a.download = filename;\n",
              "      div.appendChild(a);\n",
              "      a.click();\n",
              "      div.remove();\n",
              "    }\n",
              "  "
            ]
          },
          "metadata": {}
        },
        {
          "output_type": "display_data",
          "data": {
            "text/plain": [
              "<IPython.core.display.Javascript object>"
            ],
            "application/javascript": [
              "download(\"download_410284b2-0bab-4e2b-8f31-5ee3acc3a5c4\", \"model_FL_epsilon_20.pth\", 3279936)"
            ]
          },
          "metadata": {}
        }
      ]
    },
    {
      "cell_type": "markdown",
      "source": [
        "# Plotting the Results"
      ],
      "metadata": {
        "id": "1zZoTqScdrZ-"
      }
    },
    {
      "cell_type": "code",
      "source": [
        "##  Plotting the data gathered above  ##\n",
        "\n",
        "url = \"https://raw.githubusercontent.com/yannuma/PrivacyProject/main/Model_Creation/Dataframes_results/df_results_FL.csv\"\n",
        "df_results_FL = pd.read_csv(url)\n",
        "url = \"https://raw.githubusercontent.com/yannuma/PrivacyProject/main/Model_Creation/Dataframes_results/df_results_FL_DP.csv\"\n",
        "df_results_FL_DP = pd.read_csv(url)\n",
        "\n",
        "epscol = ['#381c6a', '#8e2b8d', '#de4968', '#fe9f6d']\n",
        "#Accuracy Boxplot by Epoch and Mode (without Privacy)\n",
        "sns.set(style=\"whitegrid\")\n",
        "#plt.figure(figsize=(12, 6))\n",
        "sns.boxplot(x=\"epoch\", y=\"accuracy\", hue=\"Mode\", data=df_results_FL,\n",
        "            dodge=False, palette=['#7C74DB', '#DB7FD8'])\n",
        "plt.title(\"Accuracy by Epoch for Training and Aggregated Models\")\n",
        "plt.xlabel(\"Epoch\")\n",
        "plt.ylabel(\"Accuracy\")\n",
        "plt.savefig('FL_box_models.png')\n",
        "plt.show()\n",
        "files.download('FL_box_models.png')\n",
        "\n",
        "#Accuracy Boxplot by Epochs with Privacy\n",
        "#Sadly it doesn't look nice\n",
        "#plt.figure(figsize=(12, 6))\n",
        "ax = sns.boxplot(x=\"epoch\", y=\"accuracy\", hue=\"epsilon\",\n",
        "            data=df_results_FL_DP[df_results_FL_DP['Mode'] == 'Aggregated Model'],\n",
        "            dodge=False, width=0.5, palette = epscol[1:])\n",
        "\n",
        "plt.title(\"Accuracy by Epoch only for Aggregated Models\")\n",
        "plt.xlabel(\"Epoch\")\n",
        "plt.ylabel(\"Accuracy\")\n",
        "plt.legend(title='Epsilon')\n",
        "plt.savefig('FL_box_epochseps.png')\n",
        "plt.show()\n",
        "files.download('FL_box_epochseps.png')\n",
        "\n",
        "#Accuracy lineplot by Epochs with Privacy\n",
        "#plt.figure(figsize=(12, 6))\n",
        "sns.lineplot(x=\"epoch\", y=\"accuracy\", hue=\"epsilon\",\n",
        "             data=df_results_FL_DP[df_results_FL_DP['Mode'] == 'Aggregated Model'], marker='o', palette = epscol[1:])\n",
        "plt.xlim(5, 60)\n",
        "plt.title(\"Accuracy vs Epoch only for Aggregated Models\")\n",
        "plt.xlabel(\"Epoch\")\n",
        "plt.ylabel(\"Accuracy\")\n",
        "plt.legend(title='Epsilon')\n",
        "plt.savefig('FL_line_eps.png')\n",
        "plt.show()\n",
        "files.download('FL_line_eps.png')\n",
        "\n",
        "combined_df = pd.concat([df_results_FL[df_results_FL['Mode'] == 'Aggregated Model'],\n",
        "                         df_results_FL_DP[df_results_FL_DP['Mode'] == 'Aggregated Model']])\n",
        "\n",
        "combined_df['epsilon'] = combined_df['epsilon'].fillna(0)\n",
        "\n",
        "#Accuracy lineplot for combined data\n",
        "#plt.figure(figsize=(12, 6))\n",
        "sns.lineplot(x=\"epoch\", y=\"accuracy\", hue=\"epsilon\", data=combined_df, marker='o', palette = epscol)\n",
        "plt.xlim(5, 60)\n",
        "plt.title(\"Accuracy vs Epoch only for Aggregated Models\")\n",
        "plt.xlabel(\"Epoch\")\n",
        "plt.ylabel(\"Accuracy\")\n",
        "plt.legend(title='Epsilon')\n",
        "plt.savefig('FL_line_eps_com.png')\n",
        "plt.show()\n",
        "files.download('FL_line_eps_com.png')\n",
        "\n",
        "combined_df_time = pd.concat([df_results_FL[df_results_FL['Mode'] != 'Aggregated Model'],\n",
        "                         df_results_FL_DP[df_results_FL_DP['Mode'] != 'Aggregated Model']])\n",
        "combined_df_time['epsilon'] = combined_df_time['epsilon'].fillna(0)\n",
        "combined_df_time = combined_df_time.sort_values(by=[\"epsilon\", \"time\"])\n",
        "\n",
        "#Execution time barplot for combined data\n",
        "#plt.figure(figsize=(12, 6))\n",
        "sns.barplot(x=\"epsilon\", y=\"time\", hue=\"epoch\", data=combined_df_time, palette=['#4b79a1','#924b75',  '#d04b4b', '#d87d3e' ,'#f1c232'])\n",
        "plt.title(\"Training Time for clients by Epsilon\")\n",
        "plt.xlabel(\"Epsilon\")\n",
        "plt.ylabel(\"Time (s)\")\n",
        "plt.savefig('FL_time.png')\n",
        "plt.show()\n",
        "files.download('FL_time.png')"
      ],
      "metadata": {
        "colab": {
          "base_uri": "https://localhost:8080/",
          "height": 1000
        },
        "id": "g5uYFyRK3dz8",
        "outputId": "a00a4e3d-4ebd-4ff9-e55e-7af37203c576"
      },
      "execution_count": 3,
      "outputs": [
        {
          "output_type": "display_data",
          "data": {
            "text/plain": [
              "<Figure size 640x480 with 1 Axes>"
            ],
            "image/png": "[encoded data removed]"
          },
          "metadata": {}
        },
        {
          "output_type": "display_data",
          "data": {
            "text/plain": [
              "<IPython.core.display.Javascript object>"
            ],
            "application/javascript": [
              "\n",
              "    async function download(id, filename, size) {\n",
              "      if (!google.colab.kernel.accessAllowed) {\n",
              "        return;\n",
              "      }\n",
              "      const div = document.createElement('div');\n",
              "      const label = document.createElement('label');\n",
              "      label.textContent = `Downloading \"${filename}\": `;\n",
              "      div.appendChild(label);\n",
              "      const progress = document.createElement('progress');\n",
              "      progress.max = size;\n",
              "      div.appendChild(progress);\n",
              "      document.body.appendChild(div);\n",
              "\n",
              "      const buffers = [];\n",
              "      let downloaded = 0;\n",
              "\n",
              "      const channel = await google.colab.kernel.comms.open(id);\n",
              "      // Send a message to notify the kernel that we're ready.\n",
              "      channel.send({})\n",
              "\n",
              "      for await (const message of channel.messages) {\n",
              "        // Send a message to notify the kernel that we're ready.\n",
              "        channel.send({})\n",
              "        if (message.buffers) {\n",
              "          for (const buffer of message.buffers) {\n",
              "            buffers.push(buffer);\n",
              "            downloaded += buffer.byteLength;\n",
              "            progress.value = downloaded;\n",
              "          }\n",
              "        }\n",
              "      }\n",
              "      const blob = new Blob(buffers, {type: 'application/binary'});\n",
              "      const a = document.createElement('a');\n",
              "      a.href = window.URL.createObjectURL(blob);\n",
              "      a.download = filename;\n",
              "      div.appendChild(a);\n",
              "      a.click();\n",
              "      div.remove();\n",
              "    }\n",
              "  "
            ]
          },
          "metadata": {}
        },
        {
          "output_type": "display_data",
          "data": {
            "text/plain": [
              "<IPython.core.display.Javascript object>"
            ],
            "application/javascript": [
              "download(\"download_5ec57ebe-c1c2-429a-908b-b439c903dd4e\", \"FL_box_models.png\", 29675)"
            ]
          },
          "metadata": {}
        },
        {
          "output_type": "display_data",
          "data": {
            "text/plain": [
              "<Figure size 640x480 with 1 Axes>"
            ],
            "image/png": "[encoded data removed]"
          },
          "metadata": {}
        },
        {
          "output_type": "display_data",
          "data": {
            "text/plain": [
              "<IPython.core.display.Javascript object>"
            ],
            "application/javascript": [
              "\n",
              "    async function download(id, filename, size) {\n",
              "      if (!google.colab.kernel.accessAllowed) {\n",
              "        return;\n",
              "      }\n",
              "      const div = document.createElement('div');\n",
              "      const label = document.createElement('label');\n",
              "      label.textContent = `Downloading \"${filename}\": `;\n",
              "      div.appendChild(label);\n",
              "      const progress = document.createElement('progress');\n",
              "      progress.max = size;\n",
              "      div.appendChild(progress);\n",
              "      document.body.appendChild(div);\n",
              "\n",
              "      const buffers = [];\n",
              "      let downloaded = 0;\n",
              "\n",
              "      const channel = await google.colab.kernel.comms.open(id);\n",
              "      // Send a message to notify the kernel that we're ready.\n",
              "      channel.send({})\n",
              "\n",
              "      for await (const message of channel.messages) {\n",
              "        // Send a message to notify the kernel that we're ready.\n",
              "        channel.send({})\n",
              "        if (message.buffers) {\n",
              "          for (const buffer of message.buffers) {\n",
              "            buffers.push(buffer);\n",
              "            downloaded += buffer.byteLength;\n",
              "            progress.value = downloaded;\n",
              "          }\n",
              "        }\n",
              "      }\n",
              "      const blob = new Blob(buffers, {type: 'application/binary'});\n",
              "      const a = document.createElement('a');\n",
              "      a.href = window.URL.createObjectURL(blob);\n",
              "      a.download = filename;\n",
              "      div.appendChild(a);\n",
              "      a.click();\n",
              "      div.remove();\n",
              "    }\n",
              "  "
            ]
          },
          "metadata": {}
        },
        {
          "output_type": "display_data",
          "data": {
            "text/plain": [
              "<IPython.core.display.Javascript object>"
            ],
            "application/javascript": [
              "download(\"download_cd0dfa7c-c243-4e34-85fe-64d7d48c2188\", \"FL_box_epochseps.png\", 24979)"
            ]
          },
          "metadata": {}
        },
        {
          "output_type": "display_data",
          "data": {
            "text/plain": [
              "<Figure size 640x480 with 1 Axes>"
            ],
            "image/png": "[encoded data removed]"
          },
          "metadata": {}
        },
        {
          "output_type": "display_data",
          "data": {
            "text/plain": [
              "<IPython.core.display.Javascript object>"
            ],
            "application/javascript": [
              "\n",
              "    async function download(id, filename, size) {\n",
              "      if (!google.colab.kernel.accessAllowed) {\n",
              "        return;\n",
              "      }\n",
              "      const div = document.createElement('div');\n",
              "      const label = document.createElement('label');\n",
              "      label.textContent = `Downloading \"${filename}\": `;\n",
              "      div.appendChild(label);\n",
              "      const progress = document.createElement('progress');\n",
              "      progress.max = size;\n",
              "      div.appendChild(progress);\n",
              "      document.body.appendChild(div);\n",
              "\n",
              "      const buffers = [];\n",
              "      let downloaded = 0;\n",
              "\n",
              "      const channel = await google.colab.kernel.comms.open(id);\n",
              "      // Send a message to notify the kernel that we're ready.\n",
              "      channel.send({})\n",
              "\n",
              "      for await (const message of channel.messages) {\n",
              "        // Send a message to notify the kernel that we're ready.\n",
              "        channel.send({})\n",
              "        if (message.buffers) {\n",
              "          for (const buffer of message.buffers) {\n",
              "            buffers.push(buffer);\n",
              "            downloaded += buffer.byteLength;\n",
              "            progress.value = downloaded;\n",
              "          }\n",
              "        }\n",
              "      }\n",
              "      const blob = new Blob(buffers, {type: 'application/binary'});\n",
              "      const a = document.createElement('a');\n",
              "      a.href = window.URL.createObjectURL(blob);\n",
              "      a.download = filename;\n",
              "      div.appendChild(a);\n",
              "      a.click();\n",
              "      div.remove();\n",
              "    }\n",
              "  "
            ]
          },
          "metadata": {}
        },
        {
          "output_type": "display_data",
          "data": {
            "text/plain": [
              "<IPython.core.display.Javascript object>"
            ],
            "application/javascript": [
              "download(\"download_2604b4b7-ee2c-4286-9ec3-45f2e6c07964\", \"FL_line_eps.png\", 48362)"
            ]
          },
          "metadata": {}
        },
        {
          "output_type": "display_data",
          "data": {
            "text/plain": [
              "<Figure size 640x480 with 1 Axes>"
            ],
            "image/png": "[encoded data removed]"
          },
          "metadata": {}
        },
        {
          "output_type": "display_data",
          "data": {
            "text/plain": [
              "<IPython.core.display.Javascript object>"
            ],
            "application/javascript": [
              "\n",
              "    async function download(id, filename, size) {\n",
              "      if (!google.colab.kernel.accessAllowed) {\n",
              "        return;\n",
              "      }\n",
              "      const div = document.createElement('div');\n",
              "      const label = document.createElement('label');\n",
              "      label.textContent = `Downloading \"${filename}\": `;\n",
              "      div.appendChild(label);\n",
              "      const progress = document.createElement('progress');\n",
              "      progress.max = size;\n",
              "      div.appendChild(progress);\n",
              "      document.body.appendChild(div);\n",
              "\n",
              "      const buffers = [];\n",
              "      let downloaded = 0;\n",
              "\n",
              "      const channel = await google.colab.kernel.comms.open(id);\n",
              "      // Send a message to notify the kernel that we're ready.\n",
              "      channel.send({})\n",
              "\n",
              "      for await (const message of channel.messages) {\n",
              "        // Send a message to notify the kernel that we're ready.\n",
              "        channel.send({})\n",
              "        if (message.buffers) {\n",
              "          for (const buffer of message.buffers) {\n",
              "            buffers.push(buffer);\n",
              "            downloaded += buffer.byteLength;\n",
              "            progress.value = downloaded;\n",
              "          }\n",
              "        }\n",
              "      }\n",
              "      const blob = new Blob(buffers, {type: 'application/binary'});\n",
              "      const a = document.createElement('a');\n",
              "      a.href = window.URL.createObjectURL(blob);\n",
              "      a.download = filename;\n",
              "      div.appendChild(a);\n",
              "      a.click();\n",
              "      div.remove();\n",
              "    }\n",
              "  "
            ]
          },
          "metadata": {}
        },
        {
          "output_type": "display_data",
          "data": {
            "text/plain": [
              "<IPython.core.display.Javascript object>"
            ],
            "application/javascript": [
              "download(\"download_66e70f7c-20aa-46cd-860f-8cb82ea6a5eb\", \"FL_line_eps_com.png\", 47631)"
            ]
          },
          "metadata": {}
        },
        {
          "output_type": "display_data",
          "data": {
            "text/plain": [
              "<Figure size 640x480 with 1 Axes>"
            ],
            "image/png": "[encoded data removed]"
          },
          "metadata": {}
        },
        {
          "output_type": "display_data",
          "data": {
            "text/plain": [
              "<IPython.core.display.Javascript object>"
            ],
            "application/javascript": [
              "\n",
              "    async function download(id, filename, size) {\n",
              "      if (!google.colab.kernel.accessAllowed) {\n",
              "        return;\n",
              "      }\n",
              "      const div = document.createElement('div');\n",
              "      const label = document.createElement('label');\n",
              "      label.textContent = `Downloading \"${filename}\": `;\n",
              "      div.appendChild(label);\n",
              "      const progress = document.createElement('progress');\n",
              "      progress.max = size;\n",
              "      div.appendChild(progress);\n",
              "      document.body.appendChild(div);\n",
              "\n",
              "      const buffers = [];\n",
              "      let downloaded = 0;\n",
              "\n",
              "      const channel = await google.colab.kernel.comms.open(id);\n",
              "      // Send a message to notify the kernel that we're ready.\n",
              "      channel.send({})\n",
              "\n",
              "      for await (const message of channel.messages) {\n",
              "        // Send a message to notify the kernel that we're ready.\n",
              "        channel.send({})\n",
              "        if (message.buffers) {\n",
              "          for (const buffer of message.buffers) {\n",
              "            buffers.push(buffer);\n",
              "            downloaded += buffer.byteLength;\n",
              "            progress.value = downloaded;\n",
              "          }\n",
              "        }\n",
              "      }\n",
              "      const blob = new Blob(buffers, {type: 'application/binary'});\n",
              "      const a = document.createElement('a');\n",
              "      a.href = window.URL.createObjectURL(blob);\n",
              "      a.download = filename;\n",
              "      div.appendChild(a);\n",
              "      a.click();\n",
              "      div.remove();\n",
              "    }\n",
              "  "
            ]
          },
          "metadata": {}
        },
        {
          "output_type": "display_data",
          "data": {
            "text/plain": [
              "<IPython.core.display.Javascript object>"
            ],
            "application/javascript": [
              "download(\"download_90565df4-2a81-41e0-afb2-c9d873bfe5fe\", \"FL_time.png\", 22278)"
            ]
          },
          "metadata": {}
        }
      ]
    }
  ]
}