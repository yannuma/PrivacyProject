{
 "cells": [
  {
   "cell_type": "markdown",
   "id": "1ff1163b-8acf-4daa-a1bd-a845726c5633",
   "metadata": {
    "id": "1ff1163b-8acf-4daa-a1bd-a845726c5633"
   },
   "source": [
    "Attacks"
   ]
  },
  {
   "cell_type": "code",
   "execution_count": 2,
   "id": "46b70347-7b0c-4fa3-a810-58280f7fdbf0",
   "metadata": {
    "colab": {
     "base_uri": "https://localhost:8080/"
    },
    "id": "46b70347-7b0c-4fa3-a810-58280f7fdbf0",
    "outputId": "c3720412-1793-4590-975d-eff9510c1379",
    "tags": []
   },
   "outputs": [],
   "source": [
    "#!pip install opacus\n",
    "from opacus import PrivacyEngine\n",
    "from opacus.validators import ModuleValidator\n",
    "import tarfile\n",
    "import torch\n",
    "import requests\n",
    "import torch.nn as nn\n",
    "import torch.optim as optim\n",
    "from torch.utils.data import DataLoader, TensorDataset\n",
    "import torch.nn.functional as F\n",
    "import torchvision\n",
    "import torch.utils.data as torch_data\n",
    "import torchvision.transforms as transforms\n",
    "import numpy as np\n",
    "import itertools\n",
    "import seaborn as sns\n",
    "import matplotlib.pyplot as plt\n",
    "import pandas as pd\n",
    "import time\n",
    "import os\n",
    "import math\n",
    "#from google.colab import files"
   ]
  },
  {
   "cell_type": "code",
   "execution_count": null,
   "id": "0e2fa083-baf9-445d-b38f-a8eeff818816",
   "metadata": {
    "colab": {
     "base_uri": "https://localhost:8080/"
    },
    "id": "0e2fa083-baf9-445d-b38f-a8eeff818816",
    "outputId": "89be82f0-ba17-42c0-f532-c56f5410f50f"
   },
   "outputs": [],
   "source": [
    "## download the data\n",
    "response = requests.get(f'https://www.comp.nus.edu.sg/~reza/files/dataset_texas.tgz')\n",
    "if response.status_code == 200:\n",
    "    with open(f'dataset_texas.tgz', 'wb') as file:\n",
    "        file.write(response.content)\n",
    "    print(\"Download completed successfully.\")\n",
    "else:\n",
    "    print(f\"Failed to download file: {response.status_code}\")\n"
   ]
  },
  {
   "cell_type": "code",
   "execution_count": 4,
   "id": "19e3cb2d-795c-4b0b-b09a-eeb1f2a010af",
   "metadata": {
    "tags": []
   },
   "outputs": [],
   "source": [
    "with tarfile.open(f'dataset_texas.tgz') as f:\n",
    "    f.extractall(f'data/')\n",
    "\n",
    "with open('data/texas/100/feats', 'r') as f:\n",
    "    features = f.readlines()\n",
    "with open('data/texas/100/labels', 'r') as f:\n",
    "    labels = f.readlines()"
   ]
  },
  {
   "cell_type": "code",
   "execution_count": 14,
   "id": "BHmHyjxQ507w",
   "metadata": {
    "id": "BHmHyjxQ507w",
    "tags": []
   },
   "outputs": [],
   "source": [
    "## build the sampled trainig and test datasets\n",
    "features_list = [list(map(int, ''.join(feature.split()).split(','))) for feature in features]\n",
    "labels_list = [int(label.strip()) for label in labels]\n",
    "size = int(0.8 * len(features))\n",
    "sample_size = 100\n",
    "## sample dataset for inference attacks\n",
    "feat_tens = torch.tensor(features_list[size-sample_size:size+sample_size], dtype=torch.float, requires_grad = True)\n",
    "l_tens = torch.tensor(labels_list[size-sample_size:size+sample_size], dtype=torch.long)\n",
    "dataset = TensorDataset(feat_tens, l_tens)\n",
    "\n",
    "\n",
    "## true train and test datasets\n",
    "feat_tens_train = torch.tensor(features_list[size-sample_size:size], dtype=torch.float)\n",
    "l_tens_train = torch.tensor(labels_list[size-sample_size:size], dtype=torch.long)\n",
    "#feat_tens_test = torch.tensor(features_list[size:], dtype=torch.float)\n",
    "#l_tens_test = torch.tensor(labels_list[size:], dtype=torch.long)\n",
    "dataset_train = TensorDataset(feat_tens_train, l_tens_train)\n",
    "#dataset_test = TensorDataset(feat_tens_test, l_tens_test)"
   ]
  },
  {
   "cell_type": "code",
   "execution_count": 6,
   "id": "znqd_4ZPE6YN",
   "metadata": {
    "colab": {
     "base_uri": "https://localhost:8080/"
    },
    "id": "znqd_4ZPE6YN",
    "outputId": "4f0fe336-293f-435e-d2bb-d1527190b8c8",
    "tags": []
   },
   "outputs": [
    {
     "name": "stdout",
     "output_type": "stream",
     "text": [
      "C:\\Users\\ale_m\\Desktop\\Alles\\Università\\Unibas\\04 Privacy-preserving methods\\PrivacyProject\\Membership_inference\n",
      "C:\\Users\\ale_m\\Desktop\\Alles\\Università\\Unibas\\04 Privacy-preserving methods\\PrivacyProject\\Membership_inference\\..\\Models\\model_S.pth\n"
     ]
    }
   ],
   "source": [
    "print(os.getcwd())\n",
    "current_dir = os.getcwd()\n",
    "model_path = os.path.join(current_dir,'..','Models','model_S.pth')\n",
    "\n",
    "print(model_path)"
   ]
  },
  {
   "cell_type": "code",
   "execution_count": 18,
   "id": "4b6eb6d1-7240-4bde-9028-7420ddb164fc",
   "metadata": {
    "tags": []
   },
   "outputs": [],
   "source": [
    "## model class\n",
    "class NetSeq(nn.Module):\n",
    "    def __init__(self):\n",
    "        super(NetSeq, self).__init__()\n",
    "        self.fc1 = nn.Linear(6169, 128)\n",
    "        self.fc2 = nn.Linear(128, 128)\n",
    "        self.fc3 = nn.Linear(128, 101)\n",
    "\n",
    "    def forward(self, x):\n",
    "        x = torch.tanh(self.fc1(x))\n",
    "        x = torch.tanh(self.fc2(x))\n",
    "        x = self.fc3(x)\n",
    "        return x"
   ]
  },
  {
   "cell_type": "code",
   "execution_count": 20,
   "id": "xrxwfbsqCWkH",
   "metadata": {
    "colab": {
     "base_uri": "https://localhost:8080/",
     "height": 304
    },
    "id": "xrxwfbsqCWkH",
    "outputId": "7d805a44-afa9-4c8d-a98e-4bfe2a83a935",
    "tags": []
   },
   "outputs": [
    {
     "data": {
      "text/plain": [
       "NetSeq(\n",
       "  (fc1): Linear(in_features=6169, out_features=128, bias=True)\n",
       "  (fc2): Linear(in_features=128, out_features=128, bias=True)\n",
       "  (fc3): Linear(in_features=128, out_features=101, bias=True)\n",
       ")"
      ]
     },
     "execution_count": 20,
     "metadata": {},
     "output_type": "execute_result"
    }
   ],
   "source": [
    "## load the model\n",
    "device = torch.device(\"cuda\" if torch.cuda.is_available() else \"cpu\")\n",
    "model_state_dict = torch.load(model_path)\n",
    "model = NetSeq()\n",
    "model.load_state_dict(model_state_dict)\n",
    "model.eval()"
   ]
  },
  {
   "cell_type": "code",
   "execution_count": 22,
   "id": "63aa3044-50f8-4f8a-9277-d6ab5dad8494",
   "metadata": {},
   "outputs": [
    {
     "name": "stdout",
     "output_type": "stream",
     "text": [
      "200\n",
      "100\n",
      "8 0.2831069827079773\n"
     ]
    }
   ],
   "source": [
    "## evaluate the model and compute loss\n",
    "criterion = nn.CrossEntropyLoss()\n",
    "data_loader = DataLoader(dataset, batch_size = 1, shuffle = False)\n",
    "results = []\n",
    "with torch.no_grad():\n",
    "    for feat, lab in data_loader:\n",
    "        # Forward pass\n",
    "        outputs = model(feat)    \n",
    "        # Compute loss\n",
    "        loss = criterion(outputs, lab) \n",
    "        # Store the feature values and loss\n",
    "        results.append((feat.numpy(), lab.numpy(), loss.item()))\n",
    "\n",
    "## sort per loss increasingly\n",
    "sorted_results = sorted(results, key = lambda x: x[2])\n",
    "predicted_members = sorted_results[:sample_size]\n",
    "print(len(sorted_results))\n",
    "print(len(predicted_members))\n",
    "##print(sorted_results[999][2])\n",
    "## max loss as an upper bound for threshold in a ROC curve\n",
    "max_loss = sorted_results[len(sorted_results)-1][2]\n",
    "max_loss2 = predicted_members[len(predicted_members)-1][2]\n",
    "int_max_loss = math.ceil(max_loss)\n",
    "print(int_max_loss, max_loss2)"
   ]
  },
  {
   "cell_type": "code",
   "execution_count": 24,
   "id": "932b2cf2-3a28-422a-8b07-930e05fb47cb",
   "metadata": {
    "tags": []
   },
   "outputs": [
    {
     "name": "stdout",
     "output_type": "stream",
     "text": [
      "absolute number of correct predictions: 53\n",
      "accuracy of prediction: 0.53\n"
     ]
    }
   ],
   "source": [
    "## the idea is that the value for which the loss is smaller are the one that are more likely to be member of the training set\n",
    "trainloader = DataLoader(dataset_train, batch_size=1, shuffle=False)\n",
    "\n",
    "train_features_set = {tuple(features.numpy().flatten()) for features, _ in trainloader}\n",
    "\n",
    "count_actual_members = sum(1 for feats, lab, loss in predicted_members if tuple(feats.flatten()) in train_features_set)\n",
    "\n",
    "        \n",
    "print('absolute number of correct predictions:',count_actual_members)\n",
    "print('accuracy of prediction:', count_actual_members/sample_size)\n"
   ]
  },
  {
   "cell_type": "code",
   "execution_count": 26,
   "id": "9a347ee8-e37d-4922-862a-dd339606f4e2",
   "metadata": {
    "tags": []
   },
   "outputs": [
    {
     "name": "stdout",
     "output_type": "stream",
     "text": [
      "8\n",
      "0.0\n",
      "0 0\n",
      "0.8\n",
      "138 72\n",
      "1.6\n",
      "169 88\n",
      "2.4\n",
      "185 94\n",
      "3.2\n",
      "195 100\n",
      "4.0\n",
      "197 100\n",
      "4.8\n",
      "199 100\n",
      "5.6\n",
      "199 100\n",
      "6.4\n",
      "199 100\n",
      "7.2\n",
      "199 100\n",
      "8.0\n",
      "200 100\n"
     ]
    },
    {
     "data": {
      "image/png": "[encoded data removed]",
      "text/plain": [
       "<Figure size 640x480 with 1 Axes>"
      ]
     },
     "metadata": {},
     "output_type": "display_data"
    }
   ],
   "source": [
    "m = 10\n",
    "TP_count = []\n",
    "FP_count = []\n",
    "TN_count = []\n",
    "FN_count = []\n",
    "print(int_max_loss)\n",
    "for i in range(m+1):\n",
    "    thresh = i/m*int_max_loss\n",
    "    print(thresh)\n",
    "    prediction = [item for item in sorted_results if item[2] < thresh]\n",
    "    count_prediction = len(prediction)\n",
    "    count_act_mem = sum(1 for feats, lab, loss in prediction if tuple(feats.flatten()) in train_features_set)\n",
    "    print(count_prediction, count_act_mem)\n",
    "    TP_count.append(count_act_mem)\n",
    "    FP_count.append(count_prediction-count_act_mem)\n",
    "    TN_count.append(sample_size - count_prediction + count_act_mem)\n",
    "    FN_count.append(sample_size - count_act_mem)\n",
    "\n",
    "    \n",
    "TPR = [TP / (TP + FN) for TP, FN in zip(TP_count, FN_count)]  # True Positive Rate\n",
    "FPR = [FP / (FP + TN) for FP, TN in zip(FP_count, TN_count)]  # False Positive Rate\n",
    "    \n",
    "roc_auc = np.trapz(TPR, FPR)\n",
    "\n",
    "# Plot ROC curve\n",
    "plt.figure()\n",
    "plt.plot(FPR, TPR, color='darkorange', lw=2, label='ROC curve (area = %0.2f)' % roc_auc)\n",
    "plt.plot([0, 1], [0, 1], color='navy', lw=2, linestyle='--')\n",
    "plt.xlim([0.0, 1.0])\n",
    "plt.ylim([0.0, 1.05])\n",
    "plt.xlabel('False Positive Rate')\n",
    "plt.ylabel('True Positive Rate')\n",
    "plt.title('Receiver Operating Characteristic')\n",
    "plt.legend(loc=\"lower right\")\n",
    "plt.show()\n",
    "    "
   ]
  },
  {
   "cell_type": "code",
   "execution_count": null,
   "id": "af4d0aac-e691-4fdf-8698-e1b5bb938c17",
   "metadata": {
    "id": "af4d0aac-e691-4fdf-8698-e1b5bb938c17"
   },
   "outputs": [],
   "source": [
    "model = 'blabla' ## salvati come pth\n",
    "\n",
    "\n",
    "x, y = 'sample of n elements'  ## check how to sample from tensor datasets\n",
    "losses = 'array of losses for model(x), y'\n",
    "sorted_elem = 'sort losses increasingly'\n",
    "\n",
    "## assume that 50% of x are in the training set\n",
    "## pick first n/2 x wrt to sorted loss\n",
    "## check how many of these are actually in the training dataset\n",
    "\n",
    "## in case of unknown percentage\n",
    "max_loss = 'max loss'\n",
    "threshold = 'between 0 and max_loss, intervall max_loss/100'\n",
    "\n",
    "## ROc curve, for each threshold comupte how many x are chosen as members\n",
    "## compute ratio TPR/FPR and plot the curve\n"
   ]
  },
  {
   "cell_type": "code",
   "execution_count": 34,
   "id": "86f3d6ca-bf1b-47e4-b696-001c35490783",
   "metadata": {},
   "outputs": [],
   "source": [
    "def compute_gradient_norm_wrt_input(model, feature, label, criterion):\n",
    "    #feature = feature.unsqueeze(0)\n",
    "    #label = label.unsqueeze(0)\n",
    "    feature.requires_grad = True\n",
    "    feature, label = feature.to(device), label.to(device)\n",
    "    model_gpu = model.to(device)\n",
    "    output = model_gpu(feature)\n",
    "    loss = criterion(output, label)\n",
    "    \n",
    "    model.train()\n",
    "    loss.backward()\n",
    "    \n",
    "    grads = feature.grad\n",
    "    grad_norm = torch.sqrt(torch.sum(grads ** 2)).item()\n",
    "    \n",
    "    return grad_norm"
   ]
  },
  {
   "cell_type": "code",
   "execution_count": 40,
   "id": "76bcef34-bbb7-4236-bdbe-f74c792f7e7a",
   "metadata": {
    "tags": []
   },
   "outputs": [
    {
     "ename": "RuntimeError",
     "evalue": "element 0 of tensors does not require grad and does not have a grad_fn",
     "output_type": "error",
     "traceback": [
      "\u001b[1;31m---------------------------------------------------------------------------\u001b[0m",
      "\u001b[1;31mRuntimeError\u001b[0m                              Traceback (most recent call last)",
      "Cell \u001b[1;32mIn[40], line 5\u001b[0m\n\u001b[0;32m      3\u001b[0m \u001b[38;5;28;01mwith\u001b[39;00m torch\u001b[38;5;241m.\u001b[39mno_grad():\n\u001b[0;32m      4\u001b[0m     \u001b[38;5;28;01mfor\u001b[39;00m feat, lab \u001b[38;5;129;01min\u001b[39;00m data_loader:\n\u001b[1;32m----> 5\u001b[0m         grad_norm \u001b[38;5;241m=\u001b[39m compute_gradient_norm_wrt_input(model, feat, lab, criterion)\n\u001b[0;32m      6\u001b[0m         results_gradnorm\u001b[38;5;241m.\u001b[39mappend((feat\u001b[38;5;241m.\u001b[39mcpu()\u001b[38;5;241m.\u001b[39mnumpy(), lab\u001b[38;5;241m.\u001b[39mcpu()\u001b[38;5;241m.\u001b[39mnumpy(), grad_norm))\n\u001b[0;32m      8\u001b[0m sorted_results \u001b[38;5;241m=\u001b[39m \u001b[38;5;28msorted\u001b[39m(results_gradnorm, key\u001b[38;5;241m=\u001b[39m\u001b[38;5;28;01mlambda\u001b[39;00m x: x[\u001b[38;5;241m2\u001b[39m])\n",
      "Cell \u001b[1;32mIn[34], line 11\u001b[0m, in \u001b[0;36mcompute_gradient_norm_wrt_input\u001b[1;34m(model, feature, label, criterion)\u001b[0m\n\u001b[0;32m      8\u001b[0m loss \u001b[38;5;241m=\u001b[39m criterion(output, label)\n\u001b[0;32m     10\u001b[0m model\u001b[38;5;241m.\u001b[39mtrain()\n\u001b[1;32m---> 11\u001b[0m loss\u001b[38;5;241m.\u001b[39mbackward()\n\u001b[0;32m     13\u001b[0m grads \u001b[38;5;241m=\u001b[39m feature\u001b[38;5;241m.\u001b[39mgrad\n\u001b[0;32m     14\u001b[0m grad_norm \u001b[38;5;241m=\u001b[39m torch\u001b[38;5;241m.\u001b[39msqrt(torch\u001b[38;5;241m.\u001b[39msum(grads \u001b[38;5;241m*\u001b[39m\u001b[38;5;241m*\u001b[39m \u001b[38;5;241m2\u001b[39m))\u001b[38;5;241m.\u001b[39mitem()\n",
      "File \u001b[1;32m~\\anaconda3\\Lib\\site-packages\\torch\\_tensor.py:492\u001b[0m, in \u001b[0;36mTensor.backward\u001b[1;34m(self, gradient, retain_graph, create_graph, inputs)\u001b[0m\n\u001b[0;32m    482\u001b[0m \u001b[38;5;28;01mif\u001b[39;00m has_torch_function_unary(\u001b[38;5;28mself\u001b[39m):\n\u001b[0;32m    483\u001b[0m     \u001b[38;5;28;01mreturn\u001b[39;00m handle_torch_function(\n\u001b[0;32m    484\u001b[0m         Tensor\u001b[38;5;241m.\u001b[39mbackward,\n\u001b[0;32m    485\u001b[0m         (\u001b[38;5;28mself\u001b[39m,),\n\u001b[1;32m   (...)\u001b[0m\n\u001b[0;32m    490\u001b[0m         inputs\u001b[38;5;241m=\u001b[39minputs,\n\u001b[0;32m    491\u001b[0m     )\n\u001b[1;32m--> 492\u001b[0m torch\u001b[38;5;241m.\u001b[39mautograd\u001b[38;5;241m.\u001b[39mbackward(\n\u001b[0;32m    493\u001b[0m     \u001b[38;5;28mself\u001b[39m, gradient, retain_graph, create_graph, inputs\u001b[38;5;241m=\u001b[39minputs\n\u001b[0;32m    494\u001b[0m )\n",
      "File \u001b[1;32m~\\anaconda3\\Lib\\site-packages\\torch\\autograd\\__init__.py:251\u001b[0m, in \u001b[0;36mbackward\u001b[1;34m(tensors, grad_tensors, retain_graph, create_graph, grad_variables, inputs)\u001b[0m\n\u001b[0;32m    246\u001b[0m     retain_graph \u001b[38;5;241m=\u001b[39m create_graph\n\u001b[0;32m    248\u001b[0m \u001b[38;5;66;03m# The reason we repeat the same comment below is that\u001b[39;00m\n\u001b[0;32m    249\u001b[0m \u001b[38;5;66;03m# some Python versions print out the first line of a multi-line function\u001b[39;00m\n\u001b[0;32m    250\u001b[0m \u001b[38;5;66;03m# calls in the traceback and some print out the last line\u001b[39;00m\n\u001b[1;32m--> 251\u001b[0m Variable\u001b[38;5;241m.\u001b[39m_execution_engine\u001b[38;5;241m.\u001b[39mrun_backward(  \u001b[38;5;66;03m# Calls into the C++ engine to run the backward pass\u001b[39;00m\n\u001b[0;32m    252\u001b[0m     tensors,\n\u001b[0;32m    253\u001b[0m     grad_tensors_,\n\u001b[0;32m    254\u001b[0m     retain_graph,\n\u001b[0;32m    255\u001b[0m     create_graph,\n\u001b[0;32m    256\u001b[0m     inputs,\n\u001b[0;32m    257\u001b[0m     allow_unreachable\u001b[38;5;241m=\u001b[39m\u001b[38;5;28;01mTrue\u001b[39;00m,\n\u001b[0;32m    258\u001b[0m     accumulate_grad\u001b[38;5;241m=\u001b[39m\u001b[38;5;28;01mTrue\u001b[39;00m,\n\u001b[0;32m    259\u001b[0m )\n",
      "\u001b[1;31mRuntimeError\u001b[0m: element 0 of tensors does not require grad and does not have a grad_fn"
     ]
    }
   ],
   "source": [
    "\n",
    "criterion = nn.CrossEntropyLoss()\n",
    "results_gradnorm = []\n",
    "with torch.no_grad():\n",
    "    for feat, lab in data_loader:\n",
    "        grad_norm = compute_gradient_norm_wrt_input(model, feat, lab, criterion)\n",
    "        results_gradnorm.append((feat.cpu().numpy(), lab.cpu().numpy(), grad_norm))\n",
    "        \n",
    "sorted_results = sorted(results_gradnorm, key=lambda x: x[2])\n"
   ]
  },
  {
   "cell_type": "code",
   "execution_count": null,
   "id": "f18e1073-fe3c-42d3-898e-29d94aabb8c0",
   "metadata": {},
   "outputs": [],
   "source": []
  }
 ],
 "metadata": {
  "colab": {
   "provenance": []
  },
  "kernelspec": {
   "display_name": "Python 3 (ipykernel)",
   "language": "python",
   "name": "python3"
  },
  "language_info": {
   "codemirror_mode": {
    "name": "ipython",
    "version": 3
   },
   "file_extension": ".py",
   "mimetype": "text/x-python",
   "name": "python",
   "nbconvert_exporter": "python",
   "pygments_lexer": "ipython3",
   "version": "3.11.9"
  }
 },
 "nbformat": 4,
 "nbformat_minor": 5
}
